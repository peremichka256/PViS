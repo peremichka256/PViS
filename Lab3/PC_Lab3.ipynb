{
  "nbformat": 4,
  "nbformat_minor": 0,
  "metadata": {
    "colab": {
      "provenance": []
    },
    "kernelspec": {
      "name": "python3",
      "display_name": "Python 3"
    },
    "language_info": {
      "name": "python"
    }
  },
  "cells": [
    {
      "cell_type": "code",
      "source": [
        "%%bash\n",
        "pip install mpi4py"
      ],
      "metadata": {
        "colab": {
          "base_uri": "https://localhost:8080/"
        },
        "id": "yc6Zvt4xDUhx",
        "outputId": "367ea2d0-c545-4bbe-8b68-160f256cf2ce"
      },
      "execution_count": 1,
      "outputs": [
        {
          "output_type": "stream",
          "name": "stdout",
          "text": [
            "Looking in indexes: https://pypi.org/simple, https://us-python.pkg.dev/colab-wheels/public/simple/\n",
            "Collecting mpi4py\n",
            "  Downloading mpi4py-3.1.4.tar.gz (2.5 MB)\n",
            "     ━━━━━━━━━━━━━━━━━━━━━━━━━━━━━━━━━━━━━━━━ 2.5/2.5 MB 21.6 MB/s eta 0:00:00\n",
            "  Installing build dependencies: started\n",
            "  Installing build dependencies: finished with status 'done'\n",
            "  Getting requirements to build wheel: started\n",
            "  Getting requirements to build wheel: finished with status 'done'\n",
            "  Preparing metadata (pyproject.toml): started\n",
            "  Preparing metadata (pyproject.toml): finished with status 'done'\n",
            "Building wheels for collected packages: mpi4py\n",
            "  Building wheel for mpi4py (pyproject.toml): started\n",
            "  Building wheel for mpi4py (pyproject.toml): finished with status 'done'\n",
            "  Created wheel for mpi4py: filename=mpi4py-3.1.4-cp38-cp38-linux_x86_64.whl size=4438492 sha256=d76a8da30ed95cb9af3d78742b6d710e1c0613f09313e74ded1a220d0e510d6b\n",
            "  Stored in directory: /root/.cache/pip/wheels/f3/35/48/0b9a7076995eea5ea64a7e4bc3f0f342f453080795276264e7\n",
            "Successfully built mpi4py\n",
            "Installing collected packages: mpi4py\n",
            "Successfully installed mpi4py-3.1.4\n"
          ]
        }
      ]
    },
    {
      "cell_type": "code",
      "execution_count": 30,
      "metadata": {
        "colab": {
          "base_uri": "https://localhost:8080/"
        },
        "id": "lOxZjFUICjkj",
        "outputId": "1cd53b70-39d4-45a0-ba07-44e5f158748d"
      },
      "outputs": [
        {
          "output_type": "stream",
          "name": "stdout",
          "text": [
            "Overwriting mpi_program1.py\n"
          ]
        }
      ],
      "source": [
        "%%writefile mpi_program1.py\n",
        "import numpy as np\n",
        "import pandas as pd\n",
        "import sklearn\n",
        "from pathlib import Path\n",
        "from sklearn.cluster import KMeans\n",
        "from mpi4py import MPI\n",
        "from sklearn.metrics.pairwise import euclidean_distances\n",
        "\n",
        "if __name__ == '__main__':\n",
        "  comm = MPI.COMM_WORLD\n",
        "  rank = comm.Get_rank()\n",
        "  size = comm.Get_size()\n",
        "  dest = 0\n",
        "  result = np.zeros(1)\n",
        "  min = np.zeros(1)\n",
        "  data_path = \"/content/DS_2019_public.csv\"\n",
        "  xName = \"KWHCOL\"\n",
        "  yName = \"BTUELCOL\"\n",
        "  df = pd.read_csv(data_path, encoding='latin1')\n",
        "  data = df[[xName, yName]].values\n",
        "  np.random.shuffle(data)\n",
        "  \n",
        "  if rank == 0:\n",
        "    data[:, 0] = data[:, 0] / df[xName].max()\n",
        "    data[:, 1] = data[:, 1] / df[yName].max()\n",
        "  \n",
        "  kmeans = KMeans(n_clusters=rank + 2)\n",
        "  labels = kmeans.fit_predict(data)\n",
        "  print(f\"For {rank + 2} clusters centers is:\", kmeans.cluster_centers_)\n",
        "\n",
        "  ss_w = kmeans.inertia_\n",
        "  dists = euclidean_distances(kmeans.cluster_centers_)\n",
        "  tri_dists = dists[np.triu_indices(rank + 2, 1)]\n",
        "  tri_dists_sq = tri_dists ** 2\n",
        "  ss_b = sum(tri_dists_sq)\n",
        "\n",
        "  #RS индекс\n",
        "  index = round (ss_b/(ss_b + ss_w), 3)\n",
        "  comm.Isend(index, dest)\n",
        "  \n",
        "  results = comm.gather(index, dest)\n",
        "  if rank == dest:\n",
        "    print(\"RS indexes for 2 to 8 clasters:\", results)\n",
        "  pass"
      ]
    },
    {
      "cell_type": "code",
      "source": [
        "%%bash\n",
        "mpiexec --allow-run-as-root -np 8 python mpi_program1.py"
      ],
      "metadata": {
        "colab": {
          "base_uri": "https://localhost:8080/"
        },
        "id": "YZe23QA4mEpP",
        "outputId": "82f0bcdf-ccdc-4e01-dbdc-e8045e234ae3"
      },
      "execution_count": 34,
      "outputs": [
        {
          "output_type": "stream",
          "name": "stdout",
          "text": [
            "For 2 clusters centers is: [[0.10236137 0.10236129]\n",
            " [0.01413818 0.01413817]]\n",
            "For 3 clusters centers is: [[ 4077.5151365  13912.48085914]\n",
            " [  616.30758957  2102.84156634]\n",
            " [10815.10391086 36901.12720613]]\n",
            "For 5 clusters centers is: [[  355.72644198  1213.73879025]\n",
            " [ 8540.92088249 29141.61263549]\n",
            " [ 4673.33146369 15945.40626018]\n",
            " [ 2145.98868141  7322.11331534]\n",
            " [17219.74661972 58753.77498592]]\n",
            "For 4 clusters centers is: [[  504.68112233  1721.97220869]\n",
            " [ 3172.98952159 10826.2407631 ]\n",
            " [ 7156.99514663 24419.65956803]\n",
            " [16195.09631111 55257.6597    ]]For 6 clusters centers is: [[   356.93169951   1217.85111738]\n",
            " [  8316.66017483  28376.43576923]\n",
            " [  2137.97638964   7294.77531566]\n",
            " [  4614.92608953  15746.12771143]\n",
            " [ 16006.13731707  54612.92996341]\n",
            " [ 60995.431      208116.552     ]]\n",
            "\n",
            "For 7 clusters centers is: [[   239.23407079    816.26667697]\n",
            " [ 16489.92502778  56263.61693056]\n",
            " [  5422.36582305  18501.10827707]\n",
            " [  3152.95258089  10757.87560546]\n",
            " [  9035.98291746  30830.76719683]\n",
            " [ 60995.431      208116.552     ]\n",
            " [  1444.05256316   4927.10723684]]\n",
            "For 9 clusters centers is: [[2.47853909e+03 8.45677487e+03]\n",
            " [6.22346202e+03 2.12344434e+04]\n",
            " [1.87163064e+02 6.38600437e+02]\n",
            " [4.13813424e+03 1.41193156e+04]\n",
            " [1.42175637e+04 4.85103147e+04]\n",
            " [2.24175681e+04 7.64887406e+04]\n",
            " [1.15357635e+03 3.93600318e+03]\n",
            " [9.20152047e+03 3.13955826e+04]\n",
            " [6.09954310e+04 2.08116552e+05]]\n",
            "For 8 clusters centers is: [[   244.09431905    832.84991758]\n",
            " [  3109.56448481  10609.83512085]\n",
            " [ 13678.76355556  46671.92342222]\n",
            " [  1454.0300624    4961.15038223]\n",
            " [ 22417.5680625   76488.7405625 ]\n",
            " [  8349.54690341  28488.64853409]\n",
            " [ 60995.431      208116.552     ]\n",
            " [  5214.74142162  17792.69523278]]\n",
            "RS indexes for 2 to 8 clasters: [0.001, 0.011, 0.057, 0.118, 0.772, 0.851, 0.9, 0.934]\n"
          ]
        },
        {
          "output_type": "stream",
          "name": "stderr",
          "text": [
            "sys:1: DtypeWarning: Columns (30,56,96,114) have mixed types.Specify dtype option on import or set low_memory=False.\n",
            "sys:1: DtypeWarning: Columns (30,56,96,114) have mixed types.Specify dtype option on import or set low_memory=False.\n",
            "sys:1: DtypeWarning: Columns (30,56,96,114) have mixed types.Specify dtype option on import or set low_memory=False.\n",
            "sys:1: DtypeWarning: Columns (30,56,96,114) have mixed types.Specify dtype option on import or set low_memory=False.\n",
            "sys:1: DtypeWarning: Columns (30,56,96,114) have mixed types.Specify dtype option on import or set low_memory=False.\n",
            "sys:1: DtypeWarning: Columns (30,56,96,114) have mixed types.Specify dtype option on import or set low_memory=False.\n",
            "sys:1: DtypeWarning: Columns (30,56,96,114) have mixed types.Specify dtype option on import or set low_memory=False.\n",
            "sys:1: DtypeWarning: Columns (30,56,96,114) have mixed types.Specify dtype option on import or set low_memory=False.\n"
          ]
        }
      ]
    }
  ]
}