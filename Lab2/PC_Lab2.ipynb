{
  "nbformat": 4,
  "nbformat_minor": 0,
  "metadata": {
    "colab": {
      "provenance": []
    },
    "kernelspec": {
      "name": "python3",
      "display_name": "Python 3"
    },
    "language_info": {
      "name": "python"
    },
    "gpuClass": "standard",
    "accelerator": "GPU"
  },
  "cells": [
    {
      "cell_type": "markdown",
      "source": [
        "Проверка на наличие GPU и подключение CUDA"
      ],
      "metadata": {
        "id": "aXBxz2QyNTOI"
      }
    },
    {
      "cell_type": "code",
      "source": [
        "%%bash\n",
        "pip install pycuda"
      ],
      "metadata": {
        "id": "ob4R3Ik_EmRo",
        "colab": {
          "base_uri": "https://localhost:8080/"
        },
        "outputId": "cce19300-3952-4d8a-998d-c661fe4e9234"
      },
      "execution_count": 1,
      "outputs": [
        {
          "output_type": "stream",
          "name": "stdout",
          "text": [
            "Looking in indexes: https://pypi.org/simple, https://us-python.pkg.dev/colab-wheels/public/simple/\n",
            "Collecting pycuda\n",
            "  Downloading pycuda-2022.2.tar.gz (1.7 MB)\n",
            "  Installing build dependencies: started\n",
            "  Installing build dependencies: finished with status 'done'\n",
            "  Getting requirements to build wheel: started\n",
            "  Getting requirements to build wheel: finished with status 'done'\n",
            "    Preparing wheel metadata: started\n",
            "    Preparing wheel metadata: finished with status 'done'\n",
            "Requirement already satisfied: appdirs>=1.4.0 in /usr/local/lib/python3.8/dist-packages (from pycuda) (1.4.4)\n",
            "Collecting pytools>=2011.2\n",
            "  Downloading pytools-2022.1.13.tar.gz (71 kB)\n",
            "Collecting mako\n",
            "  Downloading Mako-1.2.4-py3-none-any.whl (78 kB)\n",
            "Requirement already satisfied: platformdirs>=2.2.0 in /usr/local/lib/python3.8/dist-packages (from pytools>=2011.2->pycuda) (2.5.4)\n",
            "Requirement already satisfied: typing_extensions>=4.0 in /usr/local/lib/python3.8/dist-packages (from pytools>=2011.2->pycuda) (4.4.0)\n",
            "Requirement already satisfied: MarkupSafe>=0.9.2 in /usr/local/lib/python3.8/dist-packages (from mako->pycuda) (2.0.1)\n",
            "Building wheels for collected packages: pycuda, pytools\n",
            "  Building wheel for pycuda (PEP 517): started\n",
            "  Building wheel for pycuda (PEP 517): finished with status 'done'\n",
            "  Created wheel for pycuda: filename=pycuda-2022.2-cp38-cp38-linux_x86_64.whl size=646470 sha256=ba6ca42349b3b3731061cc9a07eff76a8becfcd29913404e530f74a0b0e1db34\n",
            "  Stored in directory: /root/.cache/pip/wheels/ef/0e/11/809b20ee6df2e1c63ef52b3dcf2b7386b900d4f58548f0484e\n",
            "  Building wheel for pytools (setup.py): started\n",
            "  Building wheel for pytools (setup.py): finished with status 'done'\n",
            "  Created wheel for pytools: filename=pytools-2022.1.13-py2.py3-none-any.whl size=66024 sha256=feedc3596be22fd6b6a1096c067a46b360ec7dcac963b47759213305028d60c0\n",
            "  Stored in directory: /root/.cache/pip/wheels/b5/c1/bb/26ba70fb9d10f195249ef4e170a92ae83e7534e55b67786fd9\n",
            "Successfully built pycuda pytools\n",
            "Installing collected packages: pytools, mako, pycuda\n",
            "Successfully installed mako-1.2.4 pycuda-2022.2 pytools-2022.1.13\n"
          ]
        }
      ]
    },
    {
      "cell_type": "code",
      "execution_count": null,
      "metadata": {
        "colab": {
          "base_uri": "https://localhost:8080/"
        },
        "id": "yqwCjxCCCbxC",
        "outputId": "d4099be8-c0d0-4e66-a1d8-114e2fdaddd2"
      },
      "outputs": [
        {
          "output_type": "stream",
          "name": "stdout",
          "text": [
            " Devices detected: 1\n"
          ]
        }
      ],
      "source": [
        "import pycuda.driver as drv\n",
        "drv.init()\n",
        "print(f' Devices detected: {drv.Device.count()}')"
      ]
    },
    {
      "cell_type": "code",
      "source": [
        "gpu_device = drv.Device(0)\n",
        "print(f'GPU: {gpu_device.name()}')\n",
        "print(f\"\"\"Compute Capability: {gpu_device.compute_capability()} \n",
        "Global Memory Size: {gpu_device.total_memory()//1024**2}\"\"\")"
      ],
      "metadata": {
        "id": "XFxdNOQCE49O",
        "colab": {
          "base_uri": "https://localhost:8080/"
        },
        "outputId": "2a4e5f8f-b1eb-48b9-d2a2-f56e32fa5552"
      },
      "execution_count": null,
      "outputs": [
        {
          "output_type": "stream",
          "name": "stdout",
          "text": [
            "GPU: Tesla T4\n",
            "Compute Capability: (7, 5) \n",
            "Global Memory Size: 15109\n"
          ]
        }
      ]
    },
    {
      "cell_type": "markdown",
      "source": [
        "Загрузка изображения и инвертирование цветов пикселей на CPU"
      ],
      "metadata": {
        "id": "UBIeJwqkNfSA"
      }
    },
    {
      "cell_type": "code",
      "source": [
        "from PIL import Image\n",
        "import numpy as np\n",
        "from google.colab import drive\n",
        "import cv2\n",
        "from time import time\n",
        "drive.mount('/content/gdrive')\n",
        " \n",
        "\n",
        "#Создания массива с инвертированными пикселями\n",
        "img = Image.open(r\"/content/gdrive/My Drive/1024x768.jpg\")\n",
        "img_array = np.array(img)\n",
        "#Тип тот же самый, что и в IO\n",
        "I_max = 255\n",
        "t1 = time()\n",
        "img_array = I_max - img_array\n",
        "t2 = time()\n",
        "print(f'Elapsed time (CPU) invertion = {round(t2-t1,7)} secs.')\n",
        "inverted_img = Image.fromarray(img_array)\n",
        "inverted_img.save(r\"/content/gdrive/My Drive/negative_cpu_1024x768.jpg\")"
      ],
      "metadata": {
        "colab": {
          "base_uri": "https://localhost:8080/"
        },
        "id": "5JUbOd5BNR1i",
        "outputId": "991e5623-f790-4a3c-aba5-4cd2b46f2f12"
      },
      "execution_count": 4,
      "outputs": [
        {
          "output_type": "stream",
          "name": "stdout",
          "text": [
            "Drive already mounted at /content/gdrive; to attempt to forcibly remount, call drive.mount(\"/content/gdrive\", force_remount=True).\n",
            "Elapsed time (CPU) invertion = 0.0008149 secs.\n"
          ]
        }
      ]
    },
    {
      "cell_type": "markdown",
      "source": [
        "Увеличение контрастности пикселей на CPU"
      ],
      "metadata": {
        "id": "Bv-qsapid7q6"
      }
    },
    {
      "cell_type": "code",
      "source": [
        "img = Image.open(r\"/content/gdrive/My Drive/negative_cpu_1024x768.jpg\")\n",
        "img_array = np.array(img)\n",
        "\n",
        "#Попытка сделать через сложения каждого контраста каждого пикселя\n",
        "contrast_img_array = img_array.astype(np.int32)\n",
        "\n",
        "t1 = time()\n",
        "for i in range(1, len(img_array) - 1, 1):\n",
        "  for j in range(1, len(img_array[0]) - 1, 1):\n",
        "    for m in range(1, 3):\n",
        "      contrast_img_array[i, j, m] = img_array[i, j, m] * 5 - img_array[i - 1, j, m] - img_array[i + 1, j, m] - img_array[i, j - 1, m] - img_array[i, j + 1, m]\n",
        "      if contrast_img_array[i, j, m] < 0:\n",
        "        contrast_img_array[i, j, m] = 0\n",
        "      if contrast_img_array[i, j, m] > 255:\n",
        "        contrast_img_array[i, j, m] = 255\n",
        "t2 = time()\n",
        "print(f'Elapsed time (CPU) sharpen = {round(t2-t1,7)} secs.')\n",
        "\n",
        "contrast_img = Image.fromarray(contrast_img_array.astype(np.uint8))\n",
        " \n",
        "contrast_img.save(r\"/content/gdrive/My Drive/sharpen_negative_cpu_1024x768.jpg\")\n",
        "#Конец попытки\n"
      ],
      "metadata": {
        "id": "aLWgxKYQINXY",
        "colab": {
          "base_uri": "https://localhost:8080/"
        },
        "outputId": "048ecb6f-dcc0-4bf4-9be8-644e0bd5be7d"
      },
      "execution_count": 6,
      "outputs": [
        {
          "output_type": "stream",
          "name": "stdout",
          "text": [
            "Elapsed time (CPU) sharpen = 12.3445568 secs.\n"
          ]
        }
      ]
    },
    {
      "cell_type": "markdown",
      "source": [
        "Загрузка изображения и инвертирование цветов пикселей на GPU с pycuda"
      ],
      "metadata": {
        "id": "B4nAMjLCSo8d"
      }
    },
    {
      "cell_type": "code",
      "source": [
        "import numpy as np\n",
        "from PIL import Image\n",
        "from google.colab import drive\n",
        "import pycuda.autoinit\n",
        "from pycuda import gpuarray\n",
        "from pycuda.compiler import SourceModule\n",
        "from time import time\n",
        "drive.mount('/content/gdrive')\n",
        "\n",
        "invertion_image = SourceModule(\"\"\"\n",
        "__global__ void invertion_image(int *in, int *out)\n",
        "{\n",
        "  int i = blockDim.x * blockIdx.x + threadIdx.x;\n",
        "  out[i] = 255 - in[i];\n",
        "}\n",
        "\"\"\")\n",
        "\n",
        "#Создания массива с инвертированными пикселями\n",
        "img = Image.open(r\"/content/gdrive/My Drive/1024x768.jpg\")\n",
        "img_array = np.array(img)\n",
        "input_img = img_array.astype(np.int32)\n",
        "\n",
        "image_size = input_img.shape[0]*input_img.shape[1]*input_img.shape[2]\n",
        "block_x_size = 1024\n",
        "block_y_size = 1\n",
        "block_z_size = 1\n",
        "grid_x_size = round(image_size/block_x_size)\n",
        "grid_y_size = 1\n",
        "grid_z_size = 1\n",
        "\n",
        "invertion_image_gpu_kernel = invertion_image.get_function('invertion_image')\n",
        "size = input_img.shape[0]*input_img.shape[1]\n",
        "host_input_array = input_img.reshape(image_size)\n",
        "\n",
        "input_device_array = gpuarray.to_gpu(host_input_array)\n",
        "output_device_array = gpuarray.empty_like(input_device_array)\n",
        "t1 = time()\n",
        "\n",
        "invertion_image_gpu_kernel(input_device_array,output_device_array,\n",
        "                          block=(block_x_size,block_y_size,block_z_size),\n",
        "                          grid=(grid_x_size,grid_y_size,grid_z_size))\n",
        "t2 = time()\n",
        "print(f'Elapsed time (GPU) invertion = {round(t2-t1,7)} secs.')\n",
        "output_host_array = output_device_array.get()\n",
        "output_host_array = output_host_array.astype(np.uint8)\n",
        "output_host_array = output_host_array.reshape(img_array.shape)\n",
        "inverted_img = Image.fromarray(output_host_array)\n",
        "inverted_img.save(r\"/content/gdrive/My Drive/negative_gpu_1024x768.jpg\")"
      ],
      "metadata": {
        "colab": {
          "base_uri": "https://localhost:8080/"
        },
        "id": "ph7L18MP55_l",
        "outputId": "f22ec94f-34b9-43f3-b7a5-d67fa08d2bc3"
      },
      "execution_count": 7,
      "outputs": [
        {
          "output_type": "stream",
          "name": "stdout",
          "text": [
            "Drive already mounted at /content/gdrive; to attempt to forcibly remount, call drive.mount(\"/content/gdrive\", force_remount=True).\n",
            "Elapsed time (GPU) invertion = 0.0002306 secs.\n"
          ]
        }
      ]
    },
    {
      "cell_type": "markdown",
      "source": [
        "Увеличение контрастности пикселей на GPU с pycuda"
      ],
      "metadata": {
        "id": "OrKHPsgzeOQK"
      }
    },
    {
      "cell_type": "code",
      "source": [
        "#Увеличение контраста\n",
        "import numpy as np\n",
        "from PIL import Image\n",
        "from google.colab import drive\n",
        "import pycuda.autoinit\n",
        "from pycuda import gpuarray\n",
        "from pycuda.compiler import SourceModule\n",
        "from time import time\n",
        "drive.mount('/content/gdrive')\n",
        "\n",
        "sharpen_image_kernel = SourceModule(\"\"\"\n",
        "__global__ void sharpen_image_kernel(int* imageSource, int* contrastedImage, int width)\n",
        "{\n",
        "    int pixelOffset = 3;\n",
        "    int i = blockDim.x * blockIdx.x + threadIdx.x;\n",
        "    int middle = imageSource[i];\n",
        "    int left = imageSource[i - pixelOffset];\n",
        "    int right = imageSource[i + pixelOffset];\n",
        "    int top = imageSource[i - (pixelOffset * width)];\n",
        "    int bottom = imageSource[i + (pixelOffset * width)];\n",
        "    int newValue = (middle * 5) + (left * -1) + (right * -1) + (top * -1) + (bottom * -1);\n",
        "    if(newValue > 255)\n",
        "    {\n",
        "      newValue = 255;\n",
        "    }\n",
        "    else if(newValue < 0)\n",
        "    {\n",
        "      newValue = 0;\n",
        "    }\n",
        "    contrastedImage[i] = newValue;\n",
        "}\n",
        "\"\"\")\n",
        "\n",
        "img = Image.open(r\"/content/gdrive/My Drive/negative_gpu_1024x768.jpg\")\n",
        "img_array = np.array(img)\n",
        "input_img = img_array.astype(np.int32)\n",
        "\n",
        "image_size = input_img.shape[0]*input_img.shape[1]*input_img.shape[2]\n",
        "block_x_size = 1024\n",
        "block_y_size = 1\n",
        "block_z_size = 1\n",
        "grid_x_size = round(image_size/block_x_size)\n",
        "grid_y_size = 1\n",
        "grid_z_size = 1\n",
        "\n",
        "sharpen_image_gpu = sharpen_image_kernel.get_function('sharpen_image_kernel')\n",
        "\n",
        "host_input_array = input_img.reshape(image_size)\n",
        "\n",
        "input_device_array = gpuarray.to_gpu(host_input_array)\n",
        "output_device_array = gpuarray.empty_like(input_device_array)\n",
        "\n",
        "t1 = time()\n",
        "sharpen_image_gpu(input_device_array,output_device_array, np.int32(input_img.shape[1]),\n",
        "                      block=(block_x_size,block_y_size,block_z_size),\n",
        "                      grid=(grid_x_size,grid_y_size,grid_z_size))\n",
        "t2 = time()\n",
        "print(f'Elapsed time (GPU) sharpen = {round(t2-t1,7)} secs.')\n",
        "\n",
        "output_host_array = output_device_array.get()\n",
        "output_host_array = output_host_array.astype(np.uint8)\n",
        "output_host_array = output_host_array.reshape(img_array.shape)\n",
        "contrast_img = Image.fromarray(output_host_array)\n",
        " \n",
        "contrast_img.save(r\"/content/gdrive/My Drive/sharpen_negative_gpu_1024x768.jpg\")"
      ],
      "metadata": {
        "colab": {
          "base_uri": "https://localhost:8080/"
        },
        "id": "DTZLa4aXapus",
        "outputId": "14e0fec9-d531-4e81-b956-ecbda2fda38f"
      },
      "execution_count": 9,
      "outputs": [
        {
          "output_type": "stream",
          "name": "stdout",
          "text": [
            "Drive already mounted at /content/gdrive; to attempt to forcibly remount, call drive.mount(\"/content/gdrive\", force_remount=True).\n",
            "Elapsed time (GPU) sharpen = 0.0001681 secs.\n"
          ]
        },
        {
          "output_type": "stream",
          "name": "stderr",
          "text": [
            "/usr/local/lib/python3.8/dist-packages/google/colab/_variable_inspector.py:27: UserWarning: module in out-of-thread context could not be cleaned up\n",
            "  globals().clear()\n",
            "/usr/local/lib/python3.8/dist-packages/google/colab/_variable_inspector.py:27: UserWarning: device_allocation in out-of-thread context could not be cleaned up\n",
            "  globals().clear()\n"
          ]
        }
      ]
    }
  ]
}