{
  "nbformat": 4,
  "nbformat_minor": 0,
  "metadata": {
    "colab": {
      "provenance": []
    },
    "kernelspec": {
      "name": "python3",
      "display_name": "Python 3"
    },
    "language_info": {
      "name": "python"
    }
  },
  "cells": [
    {
      "cell_type": "code",
      "execution_count": 1,
      "metadata": {
        "id": "EINzTaJfdTLu"
      },
      "outputs": [],
      "source": [
        "%%bash\n",
        "apt-get install openjdk-17-jdk-headless -qq > /dev/null"
      ]
    },
    {
      "cell_type": "code",
      "source": [
        "%%bash\n",
        "wget -q https://archive.apache.org/dist/spark/spark-3.3.0/spark-3.3.0-bin-hadoop3.tgz \n",
        "tar xf spark-3.3.0-bin-hadoop3.tgz"
      ],
      "metadata": {
        "id": "x1VFkMaBfb6d"
      },
      "execution_count": 2,
      "outputs": []
    },
    {
      "cell_type": "code",
      "source": [
        "import os\n",
        "os.environ['JAVA_HOME']='/usr/lib/jvm/java-1.17.0-openjdk-amd64'\n",
        "os.environ['SPARK_HOME']='/content/spark-3.3.0-bin-hadoop3'"
      ],
      "metadata": {
        "id": "sQRgVpFEgsQl"
      },
      "execution_count": 3,
      "outputs": []
    },
    {
      "cell_type": "code",
      "source": [
        "%%bash\n",
        "pip install findspark"
      ],
      "metadata": {
        "colab": {
          "base_uri": "https://localhost:8080/"
        },
        "id": "lGZvlA-wfcMI",
        "outputId": "f66f88f0-0f46-4bee-ef09-432d5ecf8853"
      },
      "execution_count": 4,
      "outputs": [
        {
          "output_type": "stream",
          "name": "stdout",
          "text": [
            "Looking in indexes: https://pypi.org/simple, https://us-python.pkg.dev/colab-wheels/public/simple/\n",
            "Collecting findspark\n",
            "  Downloading findspark-2.0.1-py2.py3-none-any.whl (4.4 kB)\n",
            "Installing collected packages: findspark\n",
            "Successfully installed findspark-2.0.1\n"
          ]
        }
      ]
    },
    {
      "cell_type": "code",
      "source": [
        "from google.colab import drive\n",
        "drive.mount('/content/gdrive')"
      ],
      "metadata": {
        "colab": {
          "base_uri": "https://localhost:8080/"
        },
        "id": "si56mBKJiS-w",
        "outputId": "cd5c7815-fb46-4b64-9654-dbbcee9639a2"
      },
      "execution_count": 5,
      "outputs": [
        {
          "output_type": "stream",
          "name": "stdout",
          "text": [
            "Mounted at /content/gdrive\n"
          ]
        }
      ]
    },
    {
      "cell_type": "code",
      "source": [
        "import findspark\n",
        "findspark.init()"
      ],
      "metadata": {
        "id": "DL_F-Z_YfbA7"
      },
      "execution_count": 6,
      "outputs": []
    },
    {
      "cell_type": "code",
      "source": [
        "from pyspark.sql import SparkSession\n",
        "spark = SparkSession.builder.master('local[*]').getOrCreate()"
      ],
      "metadata": {
        "id": "IC5_6y1OfbRI"
      },
      "execution_count": 7,
      "outputs": []
    },
    {
      "cell_type": "code",
      "source": [
        "df = spark.read.csv('/content/gdrive/My Drive/DS_2019_public.csv',\n",
        "                    inferSchema=True,header=True)"
      ],
      "metadata": {
        "id": "mzmIIjqCi20l"
      },
      "execution_count": 8,
      "outputs": []
    },
    {
      "cell_type": "code",
      "source": [
        "df.show(5)"
      ],
      "metadata": {
        "id": "Wb9Strh_i253",
        "colab": {
          "base_uri": "https://localhost:8080/"
        },
        "outputId": "a23b5c9f-c016-4647-8dae-9987c7b9fb41"
      },
      "execution_count": 9,
      "outputs": [
        {
          "output_type": "stream",
          "name": "stdout",
          "text": [
            "+------------------+--------+-----------------+--------+-----------+--------+--------+-----------+-----------+-----------+------+-----------+--------+--------+-----+--------+--------+-----------+---------+--------+--------+--------+--------+-------+------+-----------+--------+-----------+-----+--------+--------+--------+------+--------+------+-----+--------+--------+--------+--------+--------+--------+-----+-----------+--------+--------+-------+-----------+--------+--------+------------+---------+---------+---------+-------+----------+--------+--------+-------+--------+--------+--------+---------+------+-------+-------+--------+--------+--------+---------+--------+--------+--------+--------+--------+-------+------------+---------+-----------+-----------+--------+--------+----+------+-------+--------+-----+----+-------+-------+-----------+--------+-------+--------+-----------+---------+--------+---------+-----------+--------+-----+--------+---------+-----+-----+--------+-----------+---------+-------+--------+--------+------+-----------+--------+--------+-----------+--------+-------+------+--------+--------+\n",
            "|Climate_Region_Pub|DIVISION|REPORTABLE_DOMAIN|DOLELCOL|TOTALDOLCOL|  KWHCOL|BTUELCOL|TOTALBTUCOL|TOTALDOLSPH|TOTALBTUSPH|CELLAR|    NWEIGHT|TOTHSQFT|HEATHOME|NUMPC|DOLLAREL|DOLELOTH|CUFEETNGSPH| BTUNGSPH|DOLNGSPH|TEMPHOME|TOTCSQFT|BTUFOSPH|AIRCOND|ELCOOL|GALLONFOSPH|WALLTYPE|TOTALDOLOTH|BTUFO|GALLONFO|DOLFOSPH|DOLLARFO|KWHSPH|BTUELSPH|FOWARM|USEFO|TOTUSQFT|TOTALDOL|NUMTHERM|DOLELSPH|CONCRETE|CUFEETNG|BTUNG|GALLONFOOTH|BTUFOOTH|BEDROOMS|FOWATER|GALLONFOWTH|BTUFOWTH|DOLFOWTH|GALLONKEROTH|BTUKEROTH|DOLKEROTH|TOTUCSQFT|TOTSQFT|TOTSQFT_EN|DOLNGWTH|DOLFOOTH|ELOTHER|DOLLARNG|FUELHEAT|NOTMOIST|GALLONKER|BTUKER|NUMCFAN|FOILAUX|TOTALBTU|COOLTYPE|DOOR1SUM|DOLLARKER|DOLLPOTH|DOLELWTH|  KWHWTH|BTUELWTH|TOTROOMS|ELWATER|GALLONKERSPH|BTUKERSPH|TOTALBTUOTH|GALLONLPSPH|BTULPSPH|NCOMBATH|OVEN|EQUIPM|STORIES|GALLONLP|BTULP|LGT1|SOLWARM|FUELH2O|GALLONLPOTH|BTULPOTH|TVCOLOR|SOLARAUX|CUFEETNGOTH| BTUNGOTH|  KWHOTH|DOLKERSPH|TOTALDOLWTH|DOLLPSPH|USENG|YEARMADE| BTUELOTH|  KWH|BTUEL|DOLLARLP|CUFEETNGWTH| BTUNGWTH|UGWATER|SDESCENT|TEMPGONE|LGT1EE|TOTALBTUWTH|ROOFTYPE|DOLELRFG|TOTALDOLRFG|HEATROOM|WDWATER|UGWARM|DRYRFUEL|  KWHRFG|\n",
            "+------------------+--------+-----------------+--------+-----------+--------+--------+-----------+-----------+-----------+------+-----------+--------+--------+-----+--------+--------+-----------+---------+--------+--------+--------+--------+-------+------+-----------+--------+-----------+-----+--------+--------+--------+------+--------+------+-----+--------+--------+--------+--------+--------+--------+-----+-----------+--------+--------+-------+-----------+--------+--------+------------+---------+---------+---------+-------+----------+--------+--------+-------+--------+--------+--------+---------+------+-------+-------+--------+--------+--------+---------+--------+--------+--------+--------+--------+-------+------------+---------+-----------+-----------+--------+--------+----+------+-------+--------+-----+----+-------+-------+-----------+--------+-------+--------+-----------+---------+--------+---------+-----------+--------+-----+--------+---------+-----+-----+--------+-----------+---------+-------+--------+--------+------+-----------+--------+--------+-----------+--------+-------+------+--------+--------+\n",
            "|                 5|      10|               26|  16.793|         17| 181.998| 620.979|        621|        368|      38606|     0| 8599.17201|    2736|       1|    2|     475| 337.315|    376.643|38605.955| 367.654|      70|    2736|     0.0|      1|     1|        0.0|       2|        501|    0|       0|       0|       0|   0.0|     0.0|     0|    0|     400|    1293|       1|       0|       0|     838|85895|        0.0|     0.0|       3|      0|        0.0|     0.0|     0.0|           0|      0.0|      0.0|      400|   3136|      2736| 286.745|     0.0|      1|     818|       1|       0|        0|     0|      0|      0|  103460|       1|       0|        0|     0.0|     0.0|     0.0|     0.0|       4|      0|           0|      0.0|      29653|        0.0|     0.0|       2|   0|     3|     31|       0|    0|   0|      0|      1|        0.0|     0.0|      2|       0|    167.601|17179.073|3655.782|      0.0|        287|     0.0|    1|    1998|12473.544| 5148|17565|       0|    293.756|30109.973|      1|       0|      70|    -2|      30110|       2| 120.893|        121|       4|      0|     1|       1| 1310.22|\n",
            "|                 1|       1|                1|  48.901|         49| 184.459| 629.389|        629|        582|      40248|    -2|8969.915921|     528|       1|    1|     588| 296.353|    392.662|40248.226| 581.517|      68|     264|     0.0|      1|     1|        0.0|       1|        339|    0|       0|       0|       0|   0.0|     0.0|     0|    0|       0|    1327|       1|       0|      -2|     499|51148|        0.0|     0.0|       1|      0|        0.0|     0.0|     0.0|           0|      0.0|      0.0|      264|    528|       528| 114.618|     0.0|      1|     739|       1|       0|        0|     0|      1|      0|   58716|       2|       0|        0|     0.0|     0.0|     0.0|     0.0|       2|      0|           0|      0.0|       6781|        0.0|     0.0|       1|   0|     2|     -2|       0|    0|   2|      0|      1|        0.0|     0.0|      1|       0|     28.944| 2966.796|1117.878|      0.0|        115|     0.0|    1|    1965| 3814.291| 2218| 7568|       0|     77.394| 7932.978|      1|       0|      60|     2|       7933|      -2| 242.746|        243|       2|      0|     1|      -2| 915.664|\n",
            "|                 1|       3|                7| 101.048|        101|1063.022|3627.013|       3627|        425|      40196|     0| 18003.6396|    1623|       1|    2|     952| 512.731|    392.152| 40195.58| 424.514|      55|    1623|     0.0|      1|     1|        0.0|       6|        534|    0|       0|       0|       0|   0.0|     0.0|     0|    0|     400|    1398|       1|       0|       0|     412|42230|        0.0|     0.0|       3|      0|        0.0|     0.0|     0.0|           0|      0.0|      0.0|      400|   2023|      1623|       0|     0.0|      1|     446|       1|       0|        0|     0|      1|      0|   76401|       1|       2|        0|     0.0| 179.424|1887.531|6440.221|       7|      1|           0|      0.0|      20438|        0.0|     0.0|       2|   1|     3|     10|       0|    0|   0|      0|      5|        0.0|     0.0|      5|       0|     19.848|  2034.42|5393.913|      0.0|        179|     0.0|    1|    1985|18403.933|10015|34171|       0|          0|      0.0|      0|       0|      55|    -2|       6440|       5| 158.797|        159|       7|      0|     1|       5|1670.534|\n",
            "|                 1|       1|                1|       0|          0|     0.0|     0.0|          0|        616|      36136|     1|5999.605242|    1274|       1|    2|     705| 619.862|    352.549|36136.283| 616.238|      70|       0|     0.0|      0|     0|        0.0|       2|        620|    0|       0|       0|       0|   0.0|     0.0|     0|    0|     637|    1558|       1|       0|       0|     488|50020|        0.0|     0.0|       2|      0|        0.0|     0.0|     0.0|           0|      0.0|      0.0|     1912|   1912|      1912| 236.762|     0.0|      1|     853|       1|       0|        0|     0|      0|      0|   59809|      -2|       1|        0|     0.0|     0.0|     0.0|     0.0|       5|      0|           0|      0.0|       8607|        0.0|     0.0|       1|   0|     3|     20|       0|    0|   2|      0|      1|        0.0|     0.0|      2|       0|          0|      0.0|2522.532|      0.0|        237|     0.0|    1|    1983| 8606.856| 2869| 9789|       0|    135.451|13883.717|      1|       0|      70|     2|      13884|       5|  85.138|         85|       5|      0|     1|       5| 346.468|\n",
            "|                 1|       4|               10|  45.132|         45|  274.53| 936.677|        937|        685|      74100|     1|4232.486778|    3485|       1|    2|    1050| 853.549|    722.927|74100.451|   685.3|      66|    1538|     0.0|      1|     1|        0.0|       4|        893|    0|       0|       0|       0|   0.0|     0.0|     0|    0|       0|    1906|       1|       0|       0|     903|92558|        0.0|     0.0|       3|      0|        0.0|     0.0|     0.0|           0|      0.0|      0.0|     1946|   3485|      3485| 131.362|     0.0|      1|     856|       1|       0|        0|     0|      1|      0|  114350|       1|       0|        0|     0.0|     0.0|     0.0|     0.0|       6|      0|           0|      0.0|      21968|        0.0|     0.0|       1|   0|     3|     20|       0|    0|   3|      0|      1|        0.0|     0.0|      1|       0|     41.498| 4253.615|5192.016|      0.0|        131|     0.0|    1|    1920|17714.799| 6387|21792|       0|    138.574|14203.934|      1|       0|      66|     3|      14204|       6| 151.319|        151|       6|      0|     1|       5| 920.454|\n",
            "+------------------+--------+-----------------+--------+-----------+--------+--------+-----------+-----------+-----------+------+-----------+--------+--------+-----+--------+--------+-----------+---------+--------+--------+--------+--------+-------+------+-----------+--------+-----------+-----+--------+--------+--------+------+--------+------+-----+--------+--------+--------+--------+--------+--------+-----+-----------+--------+--------+-------+-----------+--------+--------+------------+---------+---------+---------+-------+----------+--------+--------+-------+--------+--------+--------+---------+------+-------+-------+--------+--------+--------+---------+--------+--------+--------+--------+--------+-------+------------+---------+-----------+-----------+--------+--------+----+------+-------+--------+-----+----+-------+-------+-----------+--------+-------+--------+-----------+---------+--------+---------+-----------+--------+-----+--------+---------+-----+-----+--------+-----------+---------+-------+--------+--------+------+-----------+--------+--------+-----------+--------+-------+------+--------+--------+\n",
            "only showing top 5 rows\n",
            "\n"
          ]
        }
      ]
    },
    {
      "cell_type": "code",
      "source": [
        "df.printSchema()"
      ],
      "metadata": {
        "colab": {
          "base_uri": "https://localhost:8080/"
        },
        "id": "bCe5BGaKi2-7",
        "outputId": "a075713f-b242-4458-c8a6-75f66f5cc02f"
      },
      "execution_count": 10,
      "outputs": [
        {
          "output_type": "stream",
          "name": "stdout",
          "text": [
            "root\n",
            " |-- Climate_Region_Pub: integer (nullable = true)\n",
            " |-- DIVISION: integer (nullable = true)\n",
            " |-- REPORTABLE_DOMAIN: integer (nullable = true)\n",
            " |-- DOLELCOL: string (nullable = true)\n",
            " |-- TOTALDOLCOL: integer (nullable = true)\n",
            " |-- KWHCOL: double (nullable = true)\n",
            " |-- BTUELCOL: double (nullable = true)\n",
            " |-- TOTALBTUCOL: integer (nullable = true)\n",
            " |-- TOTALDOLSPH: integer (nullable = true)\n",
            " |-- TOTALBTUSPH: integer (nullable = true)\n",
            " |-- CELLAR: integer (nullable = true)\n",
            " |-- NWEIGHT: double (nullable = true)\n",
            " |-- TOTHSQFT: integer (nullable = true)\n",
            " |-- HEATHOME: integer (nullable = true)\n",
            " |-- NUMPC: integer (nullable = true)\n",
            " |-- DOLLAREL: integer (nullable = true)\n",
            " |-- DOLELOTH: double (nullable = true)\n",
            " |-- CUFEETNGSPH: double (nullable = true)\n",
            " |-- BTUNGSPH: double (nullable = true)\n",
            " |-- DOLNGSPH: double (nullable = true)\n",
            " |-- TEMPHOME: integer (nullable = true)\n",
            " |-- TOTCSQFT: integer (nullable = true)\n",
            " |-- BTUFOSPH: double (nullable = true)\n",
            " |-- AIRCOND: integer (nullable = true)\n",
            " |-- ELCOOL: integer (nullable = true)\n",
            " |-- GALLONFOSPH: double (nullable = true)\n",
            " |-- WALLTYPE: integer (nullable = true)\n",
            " |-- TOTALDOLOTH: integer (nullable = true)\n",
            " |-- BTUFO: integer (nullable = true)\n",
            " |-- GALLONFO: integer (nullable = true)\n",
            " |-- DOLFOSPH: string (nullable = true)\n",
            " |-- DOLLARFO: integer (nullable = true)\n",
            " |-- KWHSPH: double (nullable = true)\n",
            " |-- BTUELSPH: double (nullable = true)\n",
            " |-- FOWARM: integer (nullable = true)\n",
            " |-- USEFO: integer (nullable = true)\n",
            " |-- TOTUSQFT: integer (nullable = true)\n",
            " |-- TOTALDOL: integer (nullable = true)\n",
            " |-- NUMTHERM: integer (nullable = true)\n",
            " |-- DOLELSPH: string (nullable = true)\n",
            " |-- CONCRETE: integer (nullable = true)\n",
            " |-- CUFEETNG: integer (nullable = true)\n",
            " |-- BTUNG: integer (nullable = true)\n",
            " |-- GALLONFOOTH: double (nullable = true)\n",
            " |-- BTUFOOTH: double (nullable = true)\n",
            " |-- BEDROOMS: integer (nullable = true)\n",
            " |-- FOWATER: integer (nullable = true)\n",
            " |-- GALLONFOWTH: double (nullable = true)\n",
            " |-- BTUFOWTH: double (nullable = true)\n",
            " |-- DOLFOWTH: double (nullable = true)\n",
            " |-- GALLONKEROTH: integer (nullable = true)\n",
            " |-- BTUKEROTH: double (nullable = true)\n",
            " |-- DOLKEROTH: double (nullable = true)\n",
            " |-- TOTUCSQFT: integer (nullable = true)\n",
            " |-- TOTSQFT: integer (nullable = true)\n",
            " |-- TOTSQFT_EN: integer (nullable = true)\n",
            " |-- DOLNGWTH: string (nullable = true)\n",
            " |-- DOLFOOTH: double (nullable = true)\n",
            " |-- ELOTHER: integer (nullable = true)\n",
            " |-- DOLLARNG: integer (nullable = true)\n",
            " |-- FUELHEAT: integer (nullable = true)\n",
            " |-- NOTMOIST: integer (nullable = true)\n",
            " |-- GALLONKER: integer (nullable = true)\n",
            " |-- BTUKER: integer (nullable = true)\n",
            " |-- NUMCFAN: integer (nullable = true)\n",
            " |-- FOILAUX: integer (nullable = true)\n",
            " |-- TOTALBTU: integer (nullable = true)\n",
            " |-- COOLTYPE: integer (nullable = true)\n",
            " |-- DOOR1SUM: integer (nullable = true)\n",
            " |-- DOLLARKER: integer (nullable = true)\n",
            " |-- DOLLPOTH: double (nullable = true)\n",
            " |-- DOLELWTH: double (nullable = true)\n",
            " |-- KWHWTH: double (nullable = true)\n",
            " |-- BTUELWTH: double (nullable = true)\n",
            " |-- TOTROOMS: integer (nullable = true)\n",
            " |-- ELWATER: integer (nullable = true)\n",
            " |-- GALLONKERSPH: integer (nullable = true)\n",
            " |-- BTUKERSPH: double (nullable = true)\n",
            " |-- TOTALBTUOTH: integer (nullable = true)\n",
            " |-- GALLONLPSPH: double (nullable = true)\n",
            " |-- BTULPSPH: double (nullable = true)\n",
            " |-- NCOMBATH: integer (nullable = true)\n",
            " |-- OVEN: integer (nullable = true)\n",
            " |-- EQUIPM: integer (nullable = true)\n",
            " |-- STORIES: integer (nullable = true)\n",
            " |-- GALLONLP: integer (nullable = true)\n",
            " |-- BTULP: integer (nullable = true)\n",
            " |-- LGT1: integer (nullable = true)\n",
            " |-- SOLWARM: integer (nullable = true)\n",
            " |-- FUELH2O: integer (nullable = true)\n",
            " |-- GALLONLPOTH: double (nullable = true)\n",
            " |-- BTULPOTH: double (nullable = true)\n",
            " |-- TVCOLOR: integer (nullable = true)\n",
            " |-- SOLARAUX: integer (nullable = true)\n",
            " |-- CUFEETNGOTH: string (nullable = true)\n",
            " |-- BTUNGOTH: double (nullable = true)\n",
            " |-- KWHOTH: string (nullable = true)\n",
            " |-- DOLKERSPH: double (nullable = true)\n",
            " |-- TOTALDOLWTH: integer (nullable = true)\n",
            " |-- DOLLPSPH: double (nullable = true)\n",
            " |-- USENG: integer (nullable = true)\n",
            " |-- YEARMADE: integer (nullable = true)\n",
            " |-- BTUELOTH: double (nullable = true)\n",
            " |-- KWH: integer (nullable = true)\n",
            " |-- BTUEL: integer (nullable = true)\n",
            " |-- DOLLARLP: integer (nullable = true)\n",
            " |-- CUFEETNGWTH: string (nullable = true)\n",
            " |-- BTUNGWTH: double (nullable = true)\n",
            " |-- UGWATER: integer (nullable = true)\n",
            " |-- SDESCENT: integer (nullable = true)\n",
            " |-- TEMPGONE: integer (nullable = true)\n",
            " |-- LGT1EE: integer (nullable = true)\n",
            " |-- TOTALBTUWTH: integer (nullable = true)\n",
            " |-- ROOFTYPE: integer (nullable = true)\n",
            " |-- DOLELRFG: string (nullable = true)\n",
            " |-- TOTALDOLRFG: integer (nullable = true)\n",
            " |-- HEATROOM: integer (nullable = true)\n",
            " |-- WDWATER: integer (nullable = true)\n",
            " |-- UGWARM: integer (nullable = true)\n",
            " |-- DRYRFUEL: integer (nullable = true)\n",
            " |-- KWHRFG: double (nullable = true)\n",
            "\n"
          ]
        }
      ]
    },
    {
      "cell_type": "code",
      "source": [
        "df.columns"
      ],
      "metadata": {
        "id": "i6zs8z77i3Co",
        "colab": {
          "base_uri": "https://localhost:8080/"
        },
        "outputId": "c02d0cfa-f6be-4709-c67a-3f0ff1c955c8"
      },
      "execution_count": 11,
      "outputs": [
        {
          "output_type": "execute_result",
          "data": {
            "text/plain": [
              "['Climate_Region_Pub',\n",
              " 'DIVISION',\n",
              " 'REPORTABLE_DOMAIN',\n",
              " 'DOLELCOL',\n",
              " 'TOTALDOLCOL',\n",
              " 'KWHCOL',\n",
              " 'BTUELCOL',\n",
              " 'TOTALBTUCOL',\n",
              " 'TOTALDOLSPH',\n",
              " 'TOTALBTUSPH',\n",
              " 'CELLAR',\n",
              " 'NWEIGHT',\n",
              " 'TOTHSQFT',\n",
              " 'HEATHOME',\n",
              " 'NUMPC',\n",
              " 'DOLLAREL',\n",
              " 'DOLELOTH',\n",
              " 'CUFEETNGSPH',\n",
              " 'BTUNGSPH',\n",
              " 'DOLNGSPH',\n",
              " 'TEMPHOME',\n",
              " 'TOTCSQFT',\n",
              " 'BTUFOSPH',\n",
              " 'AIRCOND',\n",
              " 'ELCOOL',\n",
              " 'GALLONFOSPH',\n",
              " 'WALLTYPE',\n",
              " 'TOTALDOLOTH',\n",
              " 'BTUFO',\n",
              " 'GALLONFO',\n",
              " 'DOLFOSPH',\n",
              " 'DOLLARFO',\n",
              " 'KWHSPH',\n",
              " 'BTUELSPH',\n",
              " 'FOWARM',\n",
              " 'USEFO',\n",
              " 'TOTUSQFT',\n",
              " 'TOTALDOL',\n",
              " 'NUMTHERM',\n",
              " 'DOLELSPH',\n",
              " 'CONCRETE',\n",
              " 'CUFEETNG',\n",
              " 'BTUNG',\n",
              " 'GALLONFOOTH',\n",
              " 'BTUFOOTH',\n",
              " 'BEDROOMS',\n",
              " 'FOWATER',\n",
              " 'GALLONFOWTH',\n",
              " 'BTUFOWTH',\n",
              " 'DOLFOWTH',\n",
              " 'GALLONKEROTH',\n",
              " 'BTUKEROTH',\n",
              " 'DOLKEROTH',\n",
              " 'TOTUCSQFT',\n",
              " 'TOTSQFT',\n",
              " 'TOTSQFT_EN',\n",
              " 'DOLNGWTH',\n",
              " 'DOLFOOTH',\n",
              " 'ELOTHER',\n",
              " 'DOLLARNG',\n",
              " 'FUELHEAT',\n",
              " 'NOTMOIST',\n",
              " 'GALLONKER',\n",
              " 'BTUKER',\n",
              " 'NUMCFAN',\n",
              " 'FOILAUX',\n",
              " 'TOTALBTU',\n",
              " 'COOLTYPE',\n",
              " 'DOOR1SUM',\n",
              " 'DOLLARKER',\n",
              " 'DOLLPOTH',\n",
              " 'DOLELWTH',\n",
              " 'KWHWTH',\n",
              " 'BTUELWTH',\n",
              " 'TOTROOMS',\n",
              " 'ELWATER',\n",
              " 'GALLONKERSPH',\n",
              " 'BTUKERSPH',\n",
              " 'TOTALBTUOTH',\n",
              " 'GALLONLPSPH',\n",
              " 'BTULPSPH',\n",
              " 'NCOMBATH',\n",
              " 'OVEN',\n",
              " 'EQUIPM',\n",
              " 'STORIES',\n",
              " 'GALLONLP',\n",
              " 'BTULP',\n",
              " 'LGT1',\n",
              " 'SOLWARM',\n",
              " 'FUELH2O',\n",
              " 'GALLONLPOTH',\n",
              " 'BTULPOTH',\n",
              " 'TVCOLOR',\n",
              " 'SOLARAUX',\n",
              " 'CUFEETNGOTH',\n",
              " 'BTUNGOTH',\n",
              " 'KWHOTH',\n",
              " 'DOLKERSPH',\n",
              " 'TOTALDOLWTH',\n",
              " 'DOLLPSPH',\n",
              " 'USENG',\n",
              " 'YEARMADE',\n",
              " 'BTUELOTH',\n",
              " 'KWH',\n",
              " 'BTUEL',\n",
              " 'DOLLARLP',\n",
              " 'CUFEETNGWTH',\n",
              " 'BTUNGWTH',\n",
              " 'UGWATER',\n",
              " 'SDESCENT',\n",
              " 'TEMPGONE',\n",
              " 'LGT1EE',\n",
              " 'TOTALBTUWTH',\n",
              " 'ROOFTYPE',\n",
              " 'DOLELRFG',\n",
              " 'TOTALDOLRFG',\n",
              " 'HEATROOM',\n",
              " 'WDWATER',\n",
              " 'UGWARM',\n",
              " 'DRYRFUEL',\n",
              " 'KWHRFG']"
            ]
          },
          "metadata": {},
          "execution_count": 11
        }
      ]
    },
    {
      "cell_type": "code",
      "source": [
        "print(df.count(),len(df.columns))"
      ],
      "metadata": {
        "colab": {
          "base_uri": "https://localhost:8080/"
        },
        "id": "uY-aeYYxi3I2",
        "outputId": "973241a3-b9b9-4279-8b59-af17890b4e5a"
      },
      "execution_count": 12,
      "outputs": [
        {
          "output_type": "stream",
          "name": "stdout",
          "text": [
            "10875 121\n"
          ]
        }
      ]
    },
    {
      "cell_type": "code",
      "source": [
        "df.groupby('Climate_Region_Pub').count().show()"
      ],
      "metadata": {
        "colab": {
          "base_uri": "https://localhost:8080/"
        },
        "id": "qTlhK3YtmEW9",
        "outputId": "942da22e-e6cb-4560-ccc3-f6780229b768"
      },
      "execution_count": 13,
      "outputs": [
        {
          "output_type": "stream",
          "name": "stdout",
          "text": [
            "+------------------+-----+\n",
            "|Climate_Region_Pub|count|\n",
            "+------------------+-----+\n",
            "|                 1| 3593|\n",
            "|                 3| 1957|\n",
            "|                 5|  612|\n",
            "|                 4| 3169|\n",
            "|                 2| 1544|\n",
            "+------------------+-----+\n",
            "\n"
          ]
        }
      ]
    },
    {
      "cell_type": "code",
      "source": [
        "df_study = df.filter((df['Climate_Region_Pub']==1)|(df['Climate_Region_Pub']==2)|(df['Climate_Region_Pub']==3)|(df['Climate_Region_Pub']==4)|(df['Climate_Region_Pub']==5))\n",
        "df_study.groupby('Climate_Region_Pub').count().orderBy('Climate_Region_Pub').show()"
      ],
      "metadata": {
        "colab": {
          "base_uri": "https://localhost:8080/"
        },
        "id": "YgLq6Q0ImEoZ",
        "outputId": "e360f155-19fb-42da-dcf7-b5ffae76ba55"
      },
      "execution_count": 14,
      "outputs": [
        {
          "output_type": "stream",
          "name": "stdout",
          "text": [
            "+------------------+-----+\n",
            "|Climate_Region_Pub|count|\n",
            "+------------------+-----+\n",
            "|                 1| 3593|\n",
            "|                 2| 1544|\n",
            "|                 3| 1957|\n",
            "|                 4| 3169|\n",
            "|                 5|  612|\n",
            "+------------------+-----+\n",
            "\n"
          ]
        }
      ]
    },
    {
      "cell_type": "code",
      "source": [
        "from pyspark.sql.functions import udf\n",
        "from pyspark.sql.types import IntegerType\n",
        "\n",
        "def inTakeReasonCoding(intakereason):\n",
        "  if intakereason == 3:\n",
        "    code_of_reason = 0\n",
        "  else:\n",
        "    code_of_reason = 1\n",
        "  return code_of_reason"
      ],
      "metadata": {
        "id": "rENrZ546pKvb"
      },
      "execution_count": 15,
      "outputs": []
    },
    {
      "cell_type": "code",
      "source": [
        "reason_coding_udf = udf(inTakeReasonCoding,IntegerType())\n",
        "\n",
        "df_study = df_study.withColumn('Climate_Region_Pub',reason_coding_udf(df_study['Climate_Region_Pub']))\n",
        "df_study.groupby('Climate_Region_Pub').count().show()"
      ],
      "metadata": {
        "colab": {
          "base_uri": "https://localhost:8080/"
        },
        "id": "c_PsCUG1rnwF",
        "outputId": "7550f306-70cd-4df3-a770-2db6bbae397e"
      },
      "execution_count": 16,
      "outputs": [
        {
          "output_type": "stream",
          "name": "stdout",
          "text": [
            "+------------------+-----+\n",
            "|Climate_Region_Pub|count|\n",
            "+------------------+-----+\n",
            "|                 1| 8918|\n",
            "|                 0| 1957|\n",
            "+------------------+-----+\n",
            "\n"
          ]
        }
      ]
    },
    {
      "cell_type": "code",
      "source": [
        "summary_data = df_study.describe()\n",
        "summary_data.show()"
      ],
      "metadata": {
        "colab": {
          "base_uri": "https://localhost:8080/"
        },
        "id": "FCJfIP6rr5bD",
        "outputId": "fc5e9107-7af8-431c-f17e-b05e5d884d94"
      },
      "execution_count": 17,
      "outputs": [
        {
          "output_type": "stream",
          "name": "stdout",
          "text": [
            "+-------+------------------+------------------+-----------------+------------------+------------------+------------------+----------------+-----------------+-----------------+-----------------+--------------------+-----------------+------------------+-------------------+------------------+------------------+-----------------+------------------+-----------------+------------------+------------------+------------------+------------------+-------------------+-------------------+-----------------+------------------+-----------------+------------------+-----------------+------------------+------------------+------------------+-----------------+-------------------+-------------------+------------------+------------------+------------------+------------------+--------------------+-----------------+-----------------+------------------+-----------------+------------------+--------------------+-----------------+-----------------+------------------+-------------------+------------------+-------------------+------------------+------------------+------------------+------------------+------------------+--------------------+-----------------+------------------+-------------------+------------------+------------------+------------------+--------------------+-----------------+------------------+------------------+-----------------+------------------+------------------+------------------+-----------------+------------------+-------------------+-----------------+------------------+------------------+------------------+------------------+------------------+-------------------+------------------+-----------------+------------------+------------------+------------------+--------------------+------------------+-----------------+-----------------+------------------+--------------------+-----------------+------------------+-----------------+------------------+------------------+------------------+------------------+------------------+------------------+------------------+------------------+-----------------+------------------+------------------+------------------+-------------------+-----------------+------------------+------------------+-----------------+------------------+------------------+------------------+--------------------+------------------+------------------+------------------+\n",
            "|summary|Climate_Region_Pub|          DIVISION|REPORTABLE_DOMAIN|          DOLELCOL|       TOTALDOLCOL|            KWHCOL|        BTUELCOL|      TOTALBTUCOL|      TOTALDOLSPH|      TOTALBTUSPH|              CELLAR|          NWEIGHT|          TOTHSQFT|           HEATHOME|             NUMPC|          DOLLAREL|         DOLELOTH|       CUFEETNGSPH|         BTUNGSPH|          DOLNGSPH|          TEMPHOME|          TOTCSQFT|          BTUFOSPH|            AIRCOND|             ELCOOL|      GALLONFOSPH|          WALLTYPE|      TOTALDOLOTH|             BTUFO|         GALLONFO|          DOLFOSPH|          DOLLARFO|            KWHSPH|         BTUELSPH|             FOWARM|              USEFO|          TOTUSQFT|          TOTALDOL|          NUMTHERM|          DOLELSPH|            CONCRETE|         CUFEETNG|            BTUNG|       GALLONFOOTH|         BTUFOOTH|          BEDROOMS|             FOWATER|      GALLONFOWTH|         BTUFOWTH|          DOLFOWTH|       GALLONKEROTH|         BTUKEROTH|          DOLKEROTH|         TOTUCSQFT|           TOTSQFT|        TOTSQFT_EN|          DOLNGWTH|          DOLFOOTH|             ELOTHER|         DOLLARNG|          FUELHEAT|           NOTMOIST|         GALLONKER|            BTUKER|           NUMCFAN|             FOILAUX|         TOTALBTU|          COOLTYPE|          DOOR1SUM|        DOLLARKER|          DOLLPOTH|          DOLELWTH|            KWHWTH|         BTUELWTH|          TOTROOMS|            ELWATER|     GALLONKERSPH|         BTUKERSPH|       TOTALBTUOTH|       GALLONLPSPH|          BTULPSPH|          NCOMBATH|               OVEN|            EQUIPM|          STORIES|          GALLONLP|             BTULP|              LGT1|             SOLWARM|           FUELH2O|      GALLONLPOTH|         BTULPOTH|           TVCOLOR|            SOLARAUX|      CUFEETNGOTH|          BTUNGOTH|           KWHOTH|         DOLKERSPH|       TOTALDOLWTH|          DOLLPSPH|             USENG|          YEARMADE|          BTUELOTH|               KWH|             BTUEL|         DOLLARLP|       CUFEETNGWTH|          BTUNGWTH|           UGWATER|           SDESCENT|         TEMPGONE|            LGT1EE|       TOTALBTUWTH|         ROOFTYPE|          DOLELRFG|       TOTALDOLRFG|          HEATROOM|             WDWATER|            UGWARM|          DRYRFUEL|            KWHRFG|\n",
            "+-------+------------------+------------------+-----------------+------------------+------------------+------------------+----------------+-----------------+-----------------+-----------------+--------------------+-----------------+------------------+-------------------+------------------+------------------+-----------------+------------------+-----------------+------------------+------------------+------------------+------------------+-------------------+-------------------+-----------------+------------------+-----------------+------------------+-----------------+------------------+------------------+------------------+-----------------+-------------------+-------------------+------------------+------------------+------------------+------------------+--------------------+-----------------+-----------------+------------------+-----------------+------------------+--------------------+-----------------+-----------------+------------------+-------------------+------------------+-------------------+------------------+------------------+------------------+------------------+------------------+--------------------+-----------------+------------------+-------------------+------------------+------------------+------------------+--------------------+-----------------+------------------+------------------+-----------------+------------------+------------------+------------------+-----------------+------------------+-------------------+-----------------+------------------+------------------+------------------+------------------+------------------+-------------------+------------------+-----------------+------------------+------------------+------------------+--------------------+------------------+-----------------+-----------------+------------------+--------------------+-----------------+------------------+-----------------+------------------+------------------+------------------+------------------+------------------+------------------+------------------+------------------+-----------------+------------------+------------------+------------------+-------------------+-----------------+------------------+------------------+-----------------+------------------+------------------+------------------+--------------------+------------------+------------------+------------------+\n",
            "|  count|             10875|             10875|            10875|             10875|             10875|             10875|           10875|            10875|            10875|            10875|               10875|            10875|             10875|              10875|             10875|             10875|            10875|             10875|            10875|             10875|             10875|             10875|             10875|              10875|              10875|            10875|             10875|            10875|             10875|            10875|             10875|             10875|             10875|            10875|              10875|              10875|             10875|             10875|             10875|             10875|               10875|            10875|            10875|             10875|            10875|             10875|               10875|            10875|            10875|             10875|              10875|             10875|              10875|             10875|             10875|             10875|             10875|             10875|               10875|            10875|             10875|              10875|             10875|             10875|             10875|               10875|            10875|             10875|             10875|            10875|             10875|             10875|             10875|            10875|             10875|              10875|            10875|             10875|             10875|             10875|             10875|             10875|              10875|             10875|            10875|             10875|             10875|             10875|               10875|             10875|            10875|            10875|             10875|               10875|            10875|             10875|            10875|             10875|             10875|             10875|             10875|             10875|             10875|             10875|             10875|            10875|             10875|             10875|             10875|              10875|            10875|             10875|             10875|            10875|             10875|             10875|             10875|               10875|             10875|             10875|             10875|\n",
            "|   mean|0.8200459770114943|5.3710344827586205| 14.7783908045977|203.66073975011633|202.42933333333335|1682.7826961839053|5741.65420478161|5741.650942528736|561.5015172413794|36931.48910344828|-0.08294252873563218|9405.654604396299|1676.3966896551724| 0.9622068965517241|1.3876781609195403|1353.1206436781608|767.4698612413764|248.61066510344878|25482.67371908043|300.22953903448365|  66.9456551724138|1253.3605517241378| 5215.721516781608| 0.8217931034482758| 0.8217931034482758|37.60788570114944|2.7371954022988505|840.4460689655173| 6028.754574712643|43.47071264367816|  91.3153302372632|105.47255172413793|1005.7949160459779|3431.772480275871|0.07172413793103448|0.07540229885057471|498.75714942528737|2040.2864367816092|0.7922758620689655|109.08090690828772|-0.02822988505747...| 404.632183908046|41474.95328735632|0.5498995862068966|76.24724606896552|2.7735172413793103|0.038344827586206894|5.313019310344825|736.7862554482759|12.875605793103448|0.18491954022988505|24.958819034482758|0.47644790804597703| 921.7937471264368| 2175.137655172414|2024.0847816091955|133.66799788466832|1.2890001839080458|  0.9999080459770114|490.3741609195402|             2.616|0.13379310344827586|1.6035862068965516|216.44708045977012|2.1140229885057473|0.004689655172413793|90071.89011494252|0.6972873563218391|0.4886436781609195|4.255908045977011|14.713397425287354|119.82140671264406|1062.2464481839095|3624.385491862059| 5.997333333333334| 0.3991724137931035|1.343448275862069|181.34067503448276|26840.540505747125| 28.68591926436782|2619.9843042758616|1.6743908045977012|0.15714942528735631|3.4372413793103447|10.52119540229885| 41.70519540229885|3809.0489195402297|2.3855632183908044| 3.67816091954023E-4|2.7133793103448274|6.133109149425288|560.1305228505751|2.5860229885057473|2.758620689655172...|45.68344269538798| 4678.972061609179|6301.936196615806|3.5933361839080464|281.55641379310345|  57.3276251954023|0.6179310344827587|1971.0804597701149| 21500.23213793103|11296.214804597701|38542.686252873566| 87.0631724137931|110.40137316041188|11313.307631172434| 0.527632183908046|0.14013793103448277| 63.7896091954023|0.8181149425287356|16313.564137931035|3.675126436781609|154.36846266323354| 154.3583448275862| 5.347126436781609|8.275862068965517E-4|0.5017931034482759| 2.984183908045977|1244.0331589885081|\n",
            "| stddev|0.3841668173521601|2.8622002315915496|8.207298583040735|311.31460777828767| 310.6911478833296| 2480.831034235845|8464.59422659553|8464.591405476578|505.9213687626741|35823.76260721373|  1.0664506888881897|5182.900895865736| 1208.717644677224|0.19070429721375354|1.1964307193521904| 909.5706104498447|552.8146412140633| 334.3138000320229|34267.23169264126|403.48516612113957|14.315935428469238|1232.3322274095663|21417.820334398897|0.38270441126869814|0.38270441126869814| 154.431276567691|1.5093633471737733|609.7655019466948|24545.022845132647|176.9800012970714|376.76043395840435| 431.5247388022317|1591.1841533271418|5429.120485091325| 0.2580424554434295| 0.2640515167683793| 681.4002049108099| 1184.555321233603|1.3659779728701877| 162.9253852132013|  1.0945856947020967|476.0350828504512|48793.67031083863|15.173750145705776|2104.284410246113|1.2237748493394447| 0.19203617589974617|34.08153474964012|4726.621581034306| 82.59699235655836|  7.290934598066246| 984.3292752768273|   18.5570550144665|1069.9645303594045|1465.5475108691892|1361.6400528796034|181.72099567504168|35.042698551616645|0.009589266029707683|576.9463211029034|2.2773164721908317| 0.3404455414312379|21.914068931955317| 2957.708485752537|  2.02091809349501|  0.0683234334366763|54701.83917847534|1.3301538857088353| 0.805498136530493|56.29362903098706| 110.8213047891234|180.97033897828115| 1600.624815680329|5461.332691334995|2.1877760508793918|0.48975080762604517|19.66856193404589|2654.5078086647127| 19478.70462430673|157.32497923277552|14368.680739814186|0.7441771905410067|  0.445114450895683|2.3309876698026635| 8.80138614400548|198.44672696869804|18124.362909952622|2.5161668442546694|0.019175886318884613|2.0002207738719444|48.09609534604362|4392.801473489179|1.3637721645012626|0.016607568486864635|99.76498074116428|10220.926458968434|4316.145669032233|50.775190393753086|196.00085631429496|292.88707501425074|0.4859156127728583|24.867621927948825|14727.448316333976| 7657.703364932015| 26128.08032280815|385.0447587138874|150.52834218777613| 15428.03739772424|0.4992588334876899|0.34714603948978306|14.40605287920655|2.3466432487897424| 13733.41687059392|2.775507411702881|106.98757539486031|106.99452617165858|2.6367787785016072|0.028757213909924074|0.5000197747131314|2.8418442402878057| 778.5882850562449|\n",
            "|    min|                 0|                 1|                1|                 0|                 0|               0.0|             0.0|                0|                0|                0|                  -2|      476.0997678|                 0|                  0|                 0|                 0|              0.0|               0.0|              0.0|               0.0|                -2|                 0|               0.0|                  0|                  0|              0.0|                 1|                3|                 0|                0|                 0|                 0|               0.0|              0.0|                  0|                  0|                 0|                 6|                -2|                 0|                  -2|                0|                0|               0.0|              0.0|                -2|                   0|              0.0|              0.0|               0.0|                  0|               0.0|                0.0|                 0|               100|               100|                 0|               0.0|                   0|                0|                -2|                  0|                 0|                 0|                 0|                   0|               58|                -2|                -9|                0|               0.0|               0.0|               0.0|              0.0|                 1|                  0|                0|               0.0|                33|               0.0|               0.0|                 0|                  0|                -2|               -2|                 0|                 0|                 0|                   0|                -2|              0.0|              0.0|                 0|                   0|                0|               0.0|        10007.308|               0.0|                 0|               0.0|                 0|              1920|            32.719|                17|                58|                0|                 0|               0.0|                 0|                  0|               -2|                -9|                 0|               -2|                 0|                 0|                -2|                   0|                 0|                -2|               0.0|\n",
            "|    max|                 1|                10|               27|            ���.97|              7729|         60995.431|      208116.552|           208117|             9264|           548711|                   1|      95779.14457|             13776|                  1|                15|             19040|         9213.064|          3296.035|       337843.933|          3591.152|                90|             13776|        333790.556|                  1|                  1|         2407.218|                 9|            12826|            426888|             3078|               999|              7665|         13843.341|        47233.418|                  1|                  1|              7589|             32012|                 5|            ���.66|                   1|             4501|           461353|             777.0|       107761.689|                13|                   1|            896.6|       124285.134|          2139.431|                425|         57308.157|           1117.371|             10783|             16122|             15472|            99.949|          1766.273|                   1|             6355|                21|                  1|               561|             75740|                15|                   1|          1096083|                 3|                10|             1394|          4582.283|          2155.258|         18916.317|        64542.434|                23|                  1|              550|           74183.0|            428085|            6008.0|         548710.67|                 8|                  3|                21|               40|              6388|            583416|                40|                   1|                21|         2256.647|       206110.735|                14|                   1|           ���.85|        238895.052|           ���.59|            1391.0|              3019|          8389.687|                 1|              2009|        221973.784|            150254|            512667|            12972|            ���.89|          284130.0|                 1|                  1|               90|                40|            284130|                8|            99.993|              2490|                23|                   1|                 1|                 5|         11069.027|\n",
            "+-------+------------------+------------------+-----------------+------------------+------------------+------------------+----------------+-----------------+-----------------+-----------------+--------------------+-----------------+------------------+-------------------+------------------+------------------+-----------------+------------------+-----------------+------------------+------------------+------------------+------------------+-------------------+-------------------+-----------------+------------------+-----------------+------------------+-----------------+------------------+------------------+------------------+-----------------+-------------------+-------------------+------------------+------------------+------------------+------------------+--------------------+-----------------+-----------------+------------------+-----------------+------------------+--------------------+-----------------+-----------------+------------------+-------------------+------------------+-------------------+------------------+------------------+------------------+------------------+------------------+--------------------+-----------------+------------------+-------------------+------------------+------------------+------------------+--------------------+-----------------+------------------+------------------+-----------------+------------------+------------------+------------------+-----------------+------------------+-------------------+-----------------+------------------+------------------+------------------+------------------+------------------+-------------------+------------------+-----------------+------------------+------------------+------------------+--------------------+------------------+-----------------+-----------------+------------------+--------------------+-----------------+------------------+-----------------+------------------+------------------+------------------+------------------+------------------+------------------+------------------+------------------+-----------------+------------------+------------------+------------------+-------------------+-----------------+------------------+------------------+-----------------+------------------+------------------+------------------+--------------------+------------------+------------------+------------------+\n",
            "\n"
          ]
        }
      ]
    },
    {
      "cell_type": "code",
      "source": [
        "input_features = ['DIVISION',\n",
        " 'REPORTABLE_DOMAIN','TOTALDOLCOL','KWHCOL','BTUELCOL',\n",
        " 'TOTALBTUCOL','TOTALDOLSPH','TOTALBTUSPH',\n",
        " 'CELLAR','NWEIGHT','TOTHSQFT','HEATHOME',\n",
        " 'NUMPC','DOLLAREL','DOLELOTH','CUFEETNGSPH',\n",
        " 'BTUNGSPH','DOLNGSPH','TEMPHOME','TOTCSQFT',\n",
        " 'BTUFOSPH','AIRCOND','ELCOOL','GALLONFOSPH',\n",
        " 'WALLTYPE','TOTALDOLOTH','BTUFO',\n",
        " 'GALLONFO','DOLLARFO','KWHSPH',\n",
        " 'BTUELSPH','FOWARM','USEFO','TOTUSQFT',\n",
        " 'TOTALDOL','NUMTHERM','CONCRETE','CUFEETNG',\n",
        " 'BTUNG','GALLONFOOTH','BTUFOOTH','BEDROOMS',\n",
        " 'FOWATER','GALLONFOWTH','BTUFOWTH','DOLFOWTH',\n",
        " 'GALLONKEROTH','BTUKEROTH','DOLKEROTH','TOTUCSQFT',\n",
        " 'TOTSQFT','TOTSQFT_EN','DOLFOOTH',\n",
        " 'ELOTHER','DOLLARNG','FUELHEAT','NOTMOIST',\n",
        " 'GALLONKER','BTUKER','NUMCFAN','FOILAUX',\n",
        " 'TOTALBTU','COOLTYPE','DOOR1SUM','DOLLARKER',\n",
        " 'DOLLPOTH','DOLELWTH','KWHWTH','BTUELWTH',\n",
        " 'TOTROOMS','ELWATER','GALLONKERSPH','BTUKERSPH',\n",
        " 'TOTALBTUOTH','GALLONLPSPH','BTULPSPH','NCOMBATH',\n",
        " 'OVEN','EQUIPM','STORIES','GALLONLP',\n",
        " 'BTULP','LGT1','SOLWARM','FUELH2O',\n",
        " 'GALLONLPOTH','BTULPOTH','TVCOLOR','SOLARAUX',\n",
        " 'BTUNGOTH','DOLKERSPH','TOTALDOLWTH','DOLLPSPH',\n",
        " 'USENG','YEARMADE','BTUELOTH','KWH',\n",
        " 'BTUEL','DOLLARLP','BTUNGWTH','UGWATER',\n",
        " 'SDESCENT','TEMPGONE','LGT1EE','TOTALBTUWTH',\n",
        " 'ROOFTYPE','TOTALDOLRFG','HEATROOM',\n",
        " 'WDWATER','UGWARM','DRYRFUEL', 'KWHRFG']"
      ],
      "metadata": {
        "id": "uugdnX_7sKcs"
      },
      "execution_count": 18,
      "outputs": []
    },
    {
      "cell_type": "code",
      "source": [
        "from pyspark.ml.feature import VectorAssembler\n",
        "df_assembler = VectorAssembler(inputCols=input_features,outputCol='features')"
      ],
      "metadata": {
        "id": "xGQ2VUSjsja7"
      },
      "execution_count": 19,
      "outputs": []
    },
    {
      "cell_type": "code",
      "source": [
        "df_cover_type = df_assembler.transform(df_study)\n",
        "df_cover_type.printSchema()"
      ],
      "metadata": {
        "colab": {
          "base_uri": "https://localhost:8080/"
        },
        "id": "nWwDxgZ_tLwD",
        "outputId": "d02013be-9237-4e6b-bfbc-4c789f3ddafc"
      },
      "execution_count": 20,
      "outputs": [
        {
          "output_type": "stream",
          "name": "stdout",
          "text": [
            "root\n",
            " |-- Climate_Region_Pub: integer (nullable = true)\n",
            " |-- DIVISION: integer (nullable = true)\n",
            " |-- REPORTABLE_DOMAIN: integer (nullable = true)\n",
            " |-- DOLELCOL: string (nullable = true)\n",
            " |-- TOTALDOLCOL: integer (nullable = true)\n",
            " |-- KWHCOL: double (nullable = true)\n",
            " |-- BTUELCOL: double (nullable = true)\n",
            " |-- TOTALBTUCOL: integer (nullable = true)\n",
            " |-- TOTALDOLSPH: integer (nullable = true)\n",
            " |-- TOTALBTUSPH: integer (nullable = true)\n",
            " |-- CELLAR: integer (nullable = true)\n",
            " |-- NWEIGHT: double (nullable = true)\n",
            " |-- TOTHSQFT: integer (nullable = true)\n",
            " |-- HEATHOME: integer (nullable = true)\n",
            " |-- NUMPC: integer (nullable = true)\n",
            " |-- DOLLAREL: integer (nullable = true)\n",
            " |-- DOLELOTH: double (nullable = true)\n",
            " |-- CUFEETNGSPH: double (nullable = true)\n",
            " |-- BTUNGSPH: double (nullable = true)\n",
            " |-- DOLNGSPH: double (nullable = true)\n",
            " |-- TEMPHOME: integer (nullable = true)\n",
            " |-- TOTCSQFT: integer (nullable = true)\n",
            " |-- BTUFOSPH: double (nullable = true)\n",
            " |-- AIRCOND: integer (nullable = true)\n",
            " |-- ELCOOL: integer (nullable = true)\n",
            " |-- GALLONFOSPH: double (nullable = true)\n",
            " |-- WALLTYPE: integer (nullable = true)\n",
            " |-- TOTALDOLOTH: integer (nullable = true)\n",
            " |-- BTUFO: integer (nullable = true)\n",
            " |-- GALLONFO: integer (nullable = true)\n",
            " |-- DOLFOSPH: string (nullable = true)\n",
            " |-- DOLLARFO: integer (nullable = true)\n",
            " |-- KWHSPH: double (nullable = true)\n",
            " |-- BTUELSPH: double (nullable = true)\n",
            " |-- FOWARM: integer (nullable = true)\n",
            " |-- USEFO: integer (nullable = true)\n",
            " |-- TOTUSQFT: integer (nullable = true)\n",
            " |-- TOTALDOL: integer (nullable = true)\n",
            " |-- NUMTHERM: integer (nullable = true)\n",
            " |-- DOLELSPH: string (nullable = true)\n",
            " |-- CONCRETE: integer (nullable = true)\n",
            " |-- CUFEETNG: integer (nullable = true)\n",
            " |-- BTUNG: integer (nullable = true)\n",
            " |-- GALLONFOOTH: double (nullable = true)\n",
            " |-- BTUFOOTH: double (nullable = true)\n",
            " |-- BEDROOMS: integer (nullable = true)\n",
            " |-- FOWATER: integer (nullable = true)\n",
            " |-- GALLONFOWTH: double (nullable = true)\n",
            " |-- BTUFOWTH: double (nullable = true)\n",
            " |-- DOLFOWTH: double (nullable = true)\n",
            " |-- GALLONKEROTH: integer (nullable = true)\n",
            " |-- BTUKEROTH: double (nullable = true)\n",
            " |-- DOLKEROTH: double (nullable = true)\n",
            " |-- TOTUCSQFT: integer (nullable = true)\n",
            " |-- TOTSQFT: integer (nullable = true)\n",
            " |-- TOTSQFT_EN: integer (nullable = true)\n",
            " |-- DOLNGWTH: string (nullable = true)\n",
            " |-- DOLFOOTH: double (nullable = true)\n",
            " |-- ELOTHER: integer (nullable = true)\n",
            " |-- DOLLARNG: integer (nullable = true)\n",
            " |-- FUELHEAT: integer (nullable = true)\n",
            " |-- NOTMOIST: integer (nullable = true)\n",
            " |-- GALLONKER: integer (nullable = true)\n",
            " |-- BTUKER: integer (nullable = true)\n",
            " |-- NUMCFAN: integer (nullable = true)\n",
            " |-- FOILAUX: integer (nullable = true)\n",
            " |-- TOTALBTU: integer (nullable = true)\n",
            " |-- COOLTYPE: integer (nullable = true)\n",
            " |-- DOOR1SUM: integer (nullable = true)\n",
            " |-- DOLLARKER: integer (nullable = true)\n",
            " |-- DOLLPOTH: double (nullable = true)\n",
            " |-- DOLELWTH: double (nullable = true)\n",
            " |-- KWHWTH: double (nullable = true)\n",
            " |-- BTUELWTH: double (nullable = true)\n",
            " |-- TOTROOMS: integer (nullable = true)\n",
            " |-- ELWATER: integer (nullable = true)\n",
            " |-- GALLONKERSPH: integer (nullable = true)\n",
            " |-- BTUKERSPH: double (nullable = true)\n",
            " |-- TOTALBTUOTH: integer (nullable = true)\n",
            " |-- GALLONLPSPH: double (nullable = true)\n",
            " |-- BTULPSPH: double (nullable = true)\n",
            " |-- NCOMBATH: integer (nullable = true)\n",
            " |-- OVEN: integer (nullable = true)\n",
            " |-- EQUIPM: integer (nullable = true)\n",
            " |-- STORIES: integer (nullable = true)\n",
            " |-- GALLONLP: integer (nullable = true)\n",
            " |-- BTULP: integer (nullable = true)\n",
            " |-- LGT1: integer (nullable = true)\n",
            " |-- SOLWARM: integer (nullable = true)\n",
            " |-- FUELH2O: integer (nullable = true)\n",
            " |-- GALLONLPOTH: double (nullable = true)\n",
            " |-- BTULPOTH: double (nullable = true)\n",
            " |-- TVCOLOR: integer (nullable = true)\n",
            " |-- SOLARAUX: integer (nullable = true)\n",
            " |-- CUFEETNGOTH: string (nullable = true)\n",
            " |-- BTUNGOTH: double (nullable = true)\n",
            " |-- KWHOTH: string (nullable = true)\n",
            " |-- DOLKERSPH: double (nullable = true)\n",
            " |-- TOTALDOLWTH: integer (nullable = true)\n",
            " |-- DOLLPSPH: double (nullable = true)\n",
            " |-- USENG: integer (nullable = true)\n",
            " |-- YEARMADE: integer (nullable = true)\n",
            " |-- BTUELOTH: double (nullable = true)\n",
            " |-- KWH: integer (nullable = true)\n",
            " |-- BTUEL: integer (nullable = true)\n",
            " |-- DOLLARLP: integer (nullable = true)\n",
            " |-- CUFEETNGWTH: string (nullable = true)\n",
            " |-- BTUNGWTH: double (nullable = true)\n",
            " |-- UGWATER: integer (nullable = true)\n",
            " |-- SDESCENT: integer (nullable = true)\n",
            " |-- TEMPGONE: integer (nullable = true)\n",
            " |-- LGT1EE: integer (nullable = true)\n",
            " |-- TOTALBTUWTH: integer (nullable = true)\n",
            " |-- ROOFTYPE: integer (nullable = true)\n",
            " |-- DOLELRFG: string (nullable = true)\n",
            " |-- TOTALDOLRFG: integer (nullable = true)\n",
            " |-- HEATROOM: integer (nullable = true)\n",
            " |-- WDWATER: integer (nullable = true)\n",
            " |-- UGWARM: integer (nullable = true)\n",
            " |-- DRYRFUEL: integer (nullable = true)\n",
            " |-- KWHRFG: double (nullable = true)\n",
            " |-- features: vector (nullable = true)\n",
            "\n"
          ]
        }
      ]
    },
    {
      "cell_type": "code",
      "source": [
        "df_train,df_test = df_cover_type.randomSplit([0.75,0.25])\n",
        "print('Обучающая выборка')\n",
        "df_train.groupby('Climate_Region_Pub').count().show()\n",
        "print('Тестовая выборка')\n",
        "df_test.groupby('Climate_Region_Pub').count().show()"
      ],
      "metadata": {
        "colab": {
          "base_uri": "https://localhost:8080/"
        },
        "id": "aogGEFZrtvvm",
        "outputId": "672904fd-2519-473a-e3aa-ccc744b2fcbd"
      },
      "execution_count": 21,
      "outputs": [
        {
          "output_type": "stream",
          "name": "stdout",
          "text": [
            "Обучающая выборка\n",
            "+------------------+-----+\n",
            "|Climate_Region_Pub|count|\n",
            "+------------------+-----+\n",
            "|                 1| 6749|\n",
            "|                 0| 1436|\n",
            "+------------------+-----+\n",
            "\n",
            "Тестовая выборка\n",
            "+------------------+-----+\n",
            "|Climate_Region_Pub|count|\n",
            "+------------------+-----+\n",
            "|                 1| 2169|\n",
            "|                 0|  521|\n",
            "+------------------+-----+\n",
            "\n"
          ]
        }
      ]
    },
    {
      "cell_type": "code",
      "source": [
        "#RandomForestClassifier\n",
        "from pyspark.ml.classification import RandomForestClassifier\n",
        "rf_model = RandomForestClassifier(labelCol='Climate_Region_Pub',numTrees=50).fit(df_train)"
      ],
      "metadata": {
        "id": "Jjq6QFriuXc4"
      },
      "execution_count": 22,
      "outputs": []
    },
    {
      "cell_type": "code",
      "source": [
        "rf_predictions = rf_model.transform(df_test)"
      ],
      "metadata": {
        "id": "mLsn8rVVu-Ti"
      },
      "execution_count": 23,
      "outputs": []
    },
    {
      "cell_type": "code",
      "source": [
        "TP = rf_predictions[(rf_predictions['Climate_Region_Pub']==1)&(rf_predictions['prediction']==1)].count()\n",
        "print('Доля истинно-положительных',TP)\n",
        "TN = rf_predictions[(rf_predictions['Climate_Region_Pub']==0)&(rf_predictions['prediction']==0)].count()\n",
        "print('Доля истинно-отрицательных',TN)\n",
        "FP = rf_predictions[(rf_predictions['Climate_Region_Pub']==0)&(rf_predictions['prediction']==1)].count()\n",
        "print('Доля ложно-положительных',FP)\n",
        "FN = rf_predictions[(rf_predictions['Climate_Region_Pub']==1)&(rf_predictions['prediction']==0)].count()\n",
        "print('Доля ложно-отрицательных',FN)\n"
      ],
      "metadata": {
        "colab": {
          "base_uri": "https://localhost:8080/"
        },
        "id": "_v0B7D8KvswI",
        "outputId": "02a1ba1b-db9f-4036-820e-4794b9ec03db"
      },
      "execution_count": 24,
      "outputs": [
        {
          "output_type": "stream",
          "name": "stdout",
          "text": [
            "Доля истинно-положительных 2146\n",
            "Доля истинно-отрицательных 367\n",
            "Доля ложно-положительных 154\n",
            "Доля ложно-отрицательных 23\n"
          ]
        }
      ]
    },
    {
      "cell_type": "code",
      "source": [
        "#DecisionTreeClassifier\n",
        "from pyspark.ml.classification import DecisionTreeClassifier\n",
        "dt_model = DecisionTreeClassifier(labelCol='Climate_Region_Pub').fit(df_train)\n",
        "dt_predictions = dt_model.transform(df_test)\n",
        "\n",
        "TP = dt_predictions[(dt_predictions['Climate_Region_Pub']==1)&(dt_predictions['prediction']==1)].count()\n",
        "print('Доля истинно-положительных',TP)\n",
        "TN = dt_predictions[(dt_predictions['Climate_Region_Pub']==0)&(dt_predictions['prediction']==0)].count()\n",
        "print('Доля истинно-отрицательных',TN)\n",
        "FP = dt_predictions[(dt_predictions['Climate_Region_Pub']==0)&(dt_predictions['prediction']==1)].count()\n",
        "print('Доля ложно-положительных',FP)\n",
        "FN = dt_predictions[(dt_predictions['Climate_Region_Pub']==1)&(dt_predictions['prediction']==0)].count()\n",
        "print('Доля ложно-отрицательных',FN)"
      ],
      "metadata": {
        "id": "h6dWH9xru-li",
        "colab": {
          "base_uri": "https://localhost:8080/"
        },
        "outputId": "db085eee-5bab-4fbc-ec8f-a7345d87e552"
      },
      "execution_count": 25,
      "outputs": [
        {
          "output_type": "stream",
          "name": "stdout",
          "text": [
            "Доля истинно-положительных 2118\n",
            "Доля истинно-отрицательных 449\n",
            "Доля ложно-положительных 72\n",
            "Доля ложно-отрицательных 51\n"
          ]
        }
      ]
    },
    {
      "cell_type": "code",
      "source": [
        "#LogisticRegression\n",
        "from pyspark.ml.classification import LogisticRegression\n",
        "lr_model = LogisticRegression(labelCol='Climate_Region_Pub').fit(df_train)\n",
        "lr_predictions = lr_model.transform(df_test)\n",
        "\n",
        "TP = lr_predictions[(lr_predictions['Climate_Region_Pub']==1)&(lr_predictions['prediction']==1)].count()\n",
        "print('Доля истинно-положительных',TP)\n",
        "TN = lr_predictions[(lr_predictions['Climate_Region_Pub']==0)&(lr_predictions['prediction']==0)].count()\n",
        "print('Доля истинно-отрицательных',TN)\n",
        "FP = lr_predictions[(lr_predictions['Climate_Region_Pub']==0)&(lr_predictions['prediction']==1)].count()\n",
        "print('Доля ложно-положительных',FP)\n",
        "FN = lr_predictions[(lr_predictions['Climate_Region_Pub']==1)&(lr_predictions['prediction']==0)].count()\n",
        "print('Доля ложно-отрицательных',FN)"
      ],
      "metadata": {
        "colab": {
          "base_uri": "https://localhost:8080/"
        },
        "id": "QCLDAqT7zvSq",
        "outputId": "4c4e5742-4a13-4284-f5f0-55b36d7e1b2b"
      },
      "execution_count": 26,
      "outputs": [
        {
          "output_type": "stream",
          "name": "stdout",
          "text": [
            "Доля истинно-положительных 2114\n",
            "Доля истинно-отрицательных 447\n",
            "Доля ложно-положительных 74\n",
            "Доля ложно-отрицательных 55\n"
          ]
        }
      ]
    }
  ]
}